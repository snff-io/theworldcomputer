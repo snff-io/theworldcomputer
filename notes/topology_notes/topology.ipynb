{
 "cells": [
  {
   "cell_type": "code",
   "execution_count": 2,
   "metadata": {},
   "outputs": [
    {
     "ename": "ImportError",
     "evalue": "cannot import name 'Grid' from partially initialized module 'library.world' (most likely due to a circular import) (/home/zampinojosh/src/theworldcomputer/library/world/__init__.py)",
     "output_type": "error",
     "traceback": [
      "\u001b[0;31m---------------------------------------------------------------------------\u001b[0m",
      "\u001b[0;31mImportError\u001b[0m                               Traceback (most recent call last)",
      "Cell \u001b[0;32mIn[2], line 3\u001b[0m\n\u001b[1;32m      1\u001b[0m \u001b[38;5;28;01mimport\u001b[39;00m \u001b[38;5;21;01msys\u001b[39;00m\n\u001b[1;32m      2\u001b[0m \u001b[38;5;66;03m#sys.path.append('/home/zampinojosh/src/theworldcomputer/')\u001b[39;00m\n\u001b[0;32m----> 3\u001b[0m \u001b[38;5;28;01mfrom\u001b[39;00m \u001b[38;5;21;01mlibrary\u001b[39;00m\u001b[38;5;21;01m.\u001b[39;00m\u001b[38;5;21;01mworld\u001b[39;00m \u001b[38;5;28;01mimport\u001b[39;00m Grid\n\u001b[1;32m      5\u001b[0m f_new_pair_group \u001b[38;5;241m=\u001b[39m \u001b[38;5;28;01mlambda\u001b[39;00m pair, x, y, grid: PairGroup(pair, x, y, grid)\n\u001b[1;32m      8\u001b[0m grid \u001b[38;5;241m=\u001b[39m Grid(\u001b[38;5;241m379\u001b[39m)\n",
      "File \u001b[0;32m~/src/theworldcomputer/library/__init__.py:1\u001b[0m\n\u001b[0;32m----> 1\u001b[0m \u001b[38;5;28;01mfrom\u001b[39;00m \u001b[38;5;21;01m.\u001b[39;00m\u001b[38;5;21;01mworld\u001b[39;00m \u001b[38;5;28;01mimport\u001b[39;00m Grid, Pair, PairGroup\n\u001b[1;32m      2\u001b[0m \u001b[38;5;28;01mfrom\u001b[39;00m \u001b[38;5;21;01m.\u001b[39;00m\u001b[38;5;21;01mworld\u001b[39;00m \u001b[38;5;28;01mimport\u001b[39;00m proc\n\u001b[1;32m      4\u001b[0m __all__ \u001b[38;5;241m=\u001b[39m {Grid, Pair, PairGroup, proc}\n",
      "File \u001b[0;32m~/src/theworldcomputer/library/world/__init__.py:1\u001b[0m\n\u001b[0;32m----> 1\u001b[0m \u001b[38;5;28;01mfrom\u001b[39;00m \u001b[38;5;21;01m.\u001b[39;00m \u001b[38;5;28;01mimport\u001b[39;00m Grid, Pair, PairGroup, proc\n\u001b[1;32m      3\u001b[0m __all__ \u001b[38;5;241m=\u001b[39m {Grid, Pair, PairGroup, proc}\n",
      "\u001b[0;31mImportError\u001b[0m: cannot import name 'Grid' from partially initialized module 'library.world' (most likely due to a circular import) (/home/zampinojosh/src/theworldcomputer/library/world/__init__.py)"
     ]
    }
   ],
   "source": [
    "import sys\n",
    "#sys.path.append('/home/zampinojosh/src/theworldcomputer/')\n",
    "from library.world import Grid\n",
    "\n",
    "f_new_pair_group = lambda pair, x, y, grid: PairGroup(pair, x, y, grid)\n",
    "\n",
    "\n",
    "grid = Grid(379)\n",
    "grid.initialize_grid(Pair.random_individual, 1)\n",
    "\n",
    "proc.simulate_single_turn(grid, f_new_pair_group, Pair.check_stability)\n",
    "\n",
    "print(len(grid.layers))\n",
    "coresample = grid.layers[0][0][3]\n",
    "print(coresample)\n",
    "\n",
    "\n",
    "proc.simulate_single_turn(grid, f_new_pair_group, Pair.check_stability)\n",
    "\n",
    "print(len(grid.layers))\n",
    "coresample = grid.layers[0][0][3]\n",
    "print(coresample)\n",
    "\n",
    "\n"
   ]
  }
 ],
 "metadata": {
  "kernelspec": {
   "display_name": "venv",
   "language": "python",
   "name": "python3"
  },
  "language_info": {
   "codemirror_mode": {
    "name": "ipython",
    "version": 3
   },
   "file_extension": ".py",
   "mimetype": "text/x-python",
   "name": "python",
   "nbconvert_exporter": "python",
   "pygments_lexer": "ipython3",
   "version": "3.11.2"
  }
 },
 "nbformat": 4,
 "nbformat_minor": 2
}
