{
 "cells": [
  {
   "cell_type": "code",
   "execution_count": 2,
   "metadata": {},
   "outputs": [
    {
     "name": "stdout",
     "output_type": "stream",
     "text": [
      "379\n",
      "076;1.19;2.03;0:0:3\n",
      "379\n",
      "076;1.38;2.23;0:0:3\n"
     ]
    }
   ],
   "source": [
    "import sys\n",
    "#sys.path.append('/home/zampinojosh/src/theworldcomputer/')\n",
    "from library.world.grid import Grid\n",
    "from library.world.pair import Pair\n",
    "from library.world.pairgroup import PairGroup\n",
    "from library.world import proc\n",
    "\n",
    "f_new_pair_group = lambda pair, x, y, grid: PairGroup(pair, x, y, grid)\n",
    "\n",
    "\n",
    "grid = Grid(379)\n",
    "grid.initialize_grid(Pair.random_individual, 1)\n",
    "\n",
    "proc.simulate_single_turn(grid, f_new_pair_group, Pair.check_stability)\n",
    "\n",
    "print(len(grid.layers))\n",
    "coresample = grid.layers[0][0][3]\n",
    "print(coresample)\n",
    "\n",
    "\n",
    "proc.simulate_single_turn(grid, f_new_pair_group, Pair.check_stability)\n",
    "\n",
    "print(len(grid.layers))\n",
    "coresample = grid.layers[0][0][3]\n",
    "print(coresample)\n",
    "\n",
    "\n"
   ]
  }
 ],
 "metadata": {
  "kernelspec": {
   "display_name": "venv",
   "language": "python",
   "name": "python3"
  },
  "language_info": {
   "codemirror_mode": {
    "name": "ipython",
    "version": 3
   },
   "file_extension": ".py",
   "mimetype": "text/x-python",
   "name": "python",
   "nbconvert_exporter": "python",
   "pygments_lexer": "ipython3",
   "version": "3.11.2"
  }
 },
 "nbformat": 4,
 "nbformat_minor": 2
}
